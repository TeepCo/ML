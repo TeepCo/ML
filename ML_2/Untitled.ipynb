{
 "cells": [
  {
   "cell_type": "code",
   "execution_count": 2,
   "metadata": {},
   "outputs": [
    {
     "data": {
      "text/plain": [
       "{('accX',): {'acc': 0.915,\n",
       "  'cm': array([[11.95,  1.75],\n",
       "         [ 0.8 , 15.5 ]])},\n",
       " ('accY',): {'acc': 0.7283333333333333,\n",
       "  'cm': array([[ 9.6 ,  4.75],\n",
       "         [ 3.4 , 12.25]])},\n",
       " ('accZ',): {'acc': 0.8083333333333333,\n",
       "  'cm': array([[10.75,  4.45],\n",
       "         [ 1.3 , 13.5 ]])},\n",
       " ('gyroX',): {'acc': 0.9,\n",
       "  'cm': array([[12.8 ,  2.05],\n",
       "         [ 0.95, 14.2 ]])},\n",
       " ('gyroY',): {'acc': 0.95,\n",
       "  'cm': array([[14.45,  0.75],\n",
       "         [ 0.75, 14.05]])},\n",
       " ('gyroZ',): {'acc': 0.985,\n",
       "  'cm': array([[14.2 ,  0.25],\n",
       "         [ 0.2 , 15.35]])},\n",
       " ('d_uncMagX',): {'acc': 0.8166666666666668,\n",
       "  'cm': array([[10.9 ,  3.95],\n",
       "         [ 1.55, 13.6 ]])},\n",
       " ('d_uncMagY',): {'acc': 0.945,\n",
       "  'cm': array([[13.4 ,  1.05],\n",
       "         [ 0.6 , 14.95]])},\n",
       " ('d_uncMagZ',): {'acc': 0.6766666666666665,\n",
       "  'cm': array([[ 7.95,  6.3 ],\n",
       "         [ 3.4 , 12.35]])},\n",
       " ('accZ', 'd_uncMagZ'): {'acc': 0.801666666666667,\n",
       "  'cm': array([[ 9.3 ,  4.3 ],\n",
       "         [ 1.65, 14.75]])},\n",
       " ('accX', 'gyroZ'): {'acc': 0.985,\n",
       "  'cm': array([[13.75,  0.2 ],\n",
       "         [ 0.25, 15.8 ]])}}"
      ]
     },
     "execution_count": 2,
     "metadata": {},
     "output_type": "execute_result"
    }
   ],
   "source": [
    "import pickle\n",
    "\n",
    "with open(\"ml.dump\", \"rb\") as f:\n",
    "    r = pickle.load(f)\n",
    "r"
   ]
  },
  {
   "cell_type": "code",
   "execution_count": 11,
   "metadata": {},
   "outputs": [],
   "source": [
    "t = [(\", \".join(key), round(r[key][\"acc\"],2)) for key in r.keys()]"
   ]
  },
  {
   "cell_type": "code",
   "execution_count": 17,
   "metadata": {},
   "outputs": [],
   "source": [
    "import pandas as pd\n",
    "\n",
    "df = pd.DataFrame(t, columns = [\"sensors\", \"accuracy\"])"
   ]
  },
  {
   "cell_type": "code",
   "execution_count": 18,
   "metadata": {},
   "outputs": [
    {
     "data": {
      "text/html": [
       "<div>\n",
       "<style scoped>\n",
       "    .dataframe tbody tr th:only-of-type {\n",
       "        vertical-align: middle;\n",
       "    }\n",
       "\n",
       "    .dataframe tbody tr th {\n",
       "        vertical-align: top;\n",
       "    }\n",
       "\n",
       "    .dataframe thead th {\n",
       "        text-align: right;\n",
       "    }\n",
       "</style>\n",
       "<table border=\"1\" class=\"dataframe\">\n",
       "  <thead>\n",
       "    <tr style=\"text-align: right;\">\n",
       "      <th></th>\n",
       "      <th>sensors</th>\n",
       "      <th>accuracy</th>\n",
       "    </tr>\n",
       "  </thead>\n",
       "  <tbody>\n",
       "    <tr>\n",
       "      <th>0</th>\n",
       "      <td>accX</td>\n",
       "      <td>0.92</td>\n",
       "    </tr>\n",
       "    <tr>\n",
       "      <th>1</th>\n",
       "      <td>accY</td>\n",
       "      <td>0.73</td>\n",
       "    </tr>\n",
       "    <tr>\n",
       "      <th>2</th>\n",
       "      <td>accZ</td>\n",
       "      <td>0.81</td>\n",
       "    </tr>\n",
       "    <tr>\n",
       "      <th>3</th>\n",
       "      <td>gyroX</td>\n",
       "      <td>0.90</td>\n",
       "    </tr>\n",
       "    <tr>\n",
       "      <th>4</th>\n",
       "      <td>gyroY</td>\n",
       "      <td>0.95</td>\n",
       "    </tr>\n",
       "    <tr>\n",
       "      <th>5</th>\n",
       "      <td>gyroZ</td>\n",
       "      <td>0.98</td>\n",
       "    </tr>\n",
       "    <tr>\n",
       "      <th>6</th>\n",
       "      <td>d_uncMagX</td>\n",
       "      <td>0.82</td>\n",
       "    </tr>\n",
       "    <tr>\n",
       "      <th>7</th>\n",
       "      <td>d_uncMagY</td>\n",
       "      <td>0.94</td>\n",
       "    </tr>\n",
       "    <tr>\n",
       "      <th>8</th>\n",
       "      <td>d_uncMagZ</td>\n",
       "      <td>0.68</td>\n",
       "    </tr>\n",
       "    <tr>\n",
       "      <th>9</th>\n",
       "      <td>accZ, d_uncMagZ</td>\n",
       "      <td>0.80</td>\n",
       "    </tr>\n",
       "    <tr>\n",
       "      <th>10</th>\n",
       "      <td>accX, gyroZ</td>\n",
       "      <td>0.98</td>\n",
       "    </tr>\n",
       "  </tbody>\n",
       "</table>\n",
       "</div>"
      ],
      "text/plain": [
       "            sensors  accuracy\n",
       "0              accX      0.92\n",
       "1              accY      0.73\n",
       "2              accZ      0.81\n",
       "3             gyroX      0.90\n",
       "4             gyroY      0.95\n",
       "5             gyroZ      0.98\n",
       "6         d_uncMagX      0.82\n",
       "7         d_uncMagY      0.94\n",
       "8         d_uncMagZ      0.68\n",
       "9   accZ, d_uncMagZ      0.80\n",
       "10      accX, gyroZ      0.98"
      ]
     },
     "execution_count": 18,
     "metadata": {},
     "output_type": "execute_result"
    }
   ],
   "source": [
    "df"
   ]
  },
  {
   "cell_type": "code",
   "execution_count": 19,
   "metadata": {},
   "outputs": [],
   "source": [
    "df.to_excel(\"sensors_accuracy.xlsx\")"
   ]
  },
  {
   "cell_type": "code",
   "execution_count": 33,
   "metadata": {},
   "outputs": [],
   "source": [
    "best = r[(\"gyroZ\",)][\"cm\"]\n",
    "worst = r[(\"d_uncMagZ\",)][\"cm\"]"
   ]
  },
  {
   "cell_type": "code",
   "execution_count": 23,
   "metadata": {},
   "outputs": [
    {
     "data": {
      "text/plain": [
       "array([[14.2 ,  0.25],\n",
       "       [ 0.2 , 15.35]])"
      ]
     },
     "execution_count": 23,
     "metadata": {},
     "output_type": "execute_result"
    }
   ],
   "source": [
    "best"
   ]
  },
  {
   "cell_type": "code",
   "execution_count": 30,
   "metadata": {},
   "outputs": [],
   "source": [
    "import numpy as np\n",
    "names = np.array([\"near left\", \"near right\", \"far right\"])\n",
    "def draw_matrix(cm, targets):\n",
    "    df_cm = pd.DataFrame(cm, index=names[targets], columns=names[targets])\n",
    "    sn.heatmap(df_cm, annot=True, cbar=False, cmap=\"YlGnBu\")"
   ]
  },
  {
   "cell_type": "code",
   "execution_count": 25,
   "metadata": {},
   "outputs": [],
   "source": [
    "import seaborn as sn\n"
   ]
  },
  {
   "cell_type": "code",
   "execution_count": 31,
   "metadata": {},
   "outputs": [
    {
     "data": {
      "image/png": "[encoded data removed]",
      "text/plain": [
       "<Figure size 432x288 with 1 Axes>"
      ]
     },
     "metadata": {
      "needs_background": "light"
     },
     "output_type": "display_data"
    }
   ],
   "source": [
    "draw_matrix(best, [0, 1])"
   ]
  },
  {
   "cell_type": "code",
   "execution_count": 35,
   "metadata": {},
   "outputs": [
    {
     "data": {
      "image/png": "[encoded data removed]",
      "text/plain": [
       "<Figure size 432x288 with 1 Axes>"
      ]
     },
     "metadata": {
      "needs_background": "light"
     },
     "output_type": "display_data"
    }
   ],
   "source": [
    "draw_matrix(worst, [0, 1])"
   ]
  },
  {
   "cell_type": "code",
   "execution_count": 42,
   "metadata": {},
   "outputs": [
    {
     "data": {
      "text/plain": [
       "{('accX',): {'acc': 0.7250000000000001,\n",
       "  'cm': array([[4.65, 1.25],\n",
       "         [1.5 , 2.6 ]])},\n",
       " ('accY',): {'acc': 0.5850000000000001,\n",
       "  'cm': array([[2.95, 2.65],\n",
       "         [1.5 , 2.9 ]])},\n",
       " ('accZ',): {'acc': 0.615,\n",
       "  'cm': array([[2.65, 2.4 ],\n",
       "         [1.45, 3.5 ]])},\n",
       " ('gyroX',): {'acc': 0.7300000000000001,\n",
       "  'cm': array([[4. , 1.1],\n",
       "         [1.6, 3.3]])},\n",
       " ('gyroY',): {'acc': 0.8800000000000001,\n",
       "  'cm': array([[4.8, 0.4],\n",
       "         [0.8, 4. ]])},\n",
       " ('gyroZ',): {'acc': 0.925,\n",
       "  'cm': array([[4.4 , 0.05],\n",
       "         [0.7 , 4.85]])},\n",
       " ('d_uncMagX',): {'acc': 0.7150000000000001,\n",
       "  'cm': array([[3.  , 1.9 ],\n",
       "         [0.95, 4.15]])},\n",
       " ('d_uncMagY',): {'acc': 0.7350000000000001,\n",
       "  'cm': array([[4.25, 0.85],\n",
       "         [1.8 , 3.1 ]])},\n",
       " ('d_uncMagZ',): {'acc': 0.5900000000000001,\n",
       "  'cm': array([[2.95, 2.4 ],\n",
       "         [1.7 , 2.95]])},\n",
       " ('accZ', 'd_uncMagZ'): {'acc': 0.6249999999999999,\n",
       "  'cm': array([[2.5 , 3.1 ],\n",
       "         [1.65, 4.25]])},\n",
       " ('accX', 'gyroZ'): {'acc': 0.96,\n",
       "  'cm': array([[5. , 0.3],\n",
       "         [0.1, 4.6]])}}"
      ]
     },
     "execution_count": 42,
     "metadata": {},
     "output_type": "execute_result"
    }
   ],
   "source": [
    "with open(\"ml1b.dump\", \"rb\") as f:\n",
    "    r1b = pickle.load(f)\n",
    "r1b"
   ]
  },
  {
   "cell_type": "code",
   "execution_count": 43,
   "metadata": {},
   "outputs": [],
   "source": [
    "with open(\"ml2.dump\", \"rb\") as f:\n",
    "    r2 = pickle.load(f)"
   ]
  },
  {
   "cell_type": "code",
   "execution_count": 44,
   "metadata": {},
   "outputs": [],
   "source": [
    "t1b = [(\", \".join(key), round(r1b[key][\"acc\"],2)) for key in r1b.keys()]\n",
    "t2 = [(\", \".join(key), round(r2[key][\"acc\"],2)) for key in r2.keys()]"
   ]
  },
  {
   "cell_type": "code",
   "execution_count": 46,
   "metadata": {},
   "outputs": [],
   "source": [
    "import pandas as pd\n",
    "\n",
    "df1b = pd.DataFrame(t1b, columns = [\"sensors\", \"accuracy\"])\n",
    "df2 = pd.DataFrame(t2, columns = [\"sensors\", \"accuracy\"])"
   ]
  },
  {
   "cell_type": "code",
   "execution_count": 47,
   "metadata": {},
   "outputs": [
    {
     "data": {
      "text/html": [
       "<div>\n",
       "<style scoped>\n",
       "    .dataframe tbody tr th:only-of-type {\n",
       "        vertical-align: middle;\n",
       "    }\n",
       "\n",
       "    .dataframe tbody tr th {\n",
       "        vertical-align: top;\n",
       "    }\n",
       "\n",
       "    .dataframe thead th {\n",
       "        text-align: right;\n",
       "    }\n",
       "</style>\n",
       "<table border=\"1\" class=\"dataframe\">\n",
       "  <thead>\n",
       "    <tr style=\"text-align: right;\">\n",
       "      <th></th>\n",
       "      <th>sensors</th>\n",
       "      <th>accuracy</th>\n",
       "    </tr>\n",
       "  </thead>\n",
       "  <tbody>\n",
       "    <tr>\n",
       "      <th>0</th>\n",
       "      <td>accX</td>\n",
       "      <td>0.73</td>\n",
       "    </tr>\n",
       "    <tr>\n",
       "      <th>1</th>\n",
       "      <td>accY</td>\n",
       "      <td>0.59</td>\n",
       "    </tr>\n",
       "    <tr>\n",
       "      <th>2</th>\n",
       "      <td>accZ</td>\n",
       "      <td>0.62</td>\n",
       "    </tr>\n",
       "    <tr>\n",
       "      <th>3</th>\n",
       "      <td>gyroX</td>\n",
       "      <td>0.73</td>\n",
       "    </tr>\n",
       "    <tr>\n",
       "      <th>4</th>\n",
       "      <td>gyroY</td>\n",
       "      <td>0.88</td>\n",
       "    </tr>\n",
       "    <tr>\n",
       "      <th>5</th>\n",
       "      <td>gyroZ</td>\n",
       "      <td>0.92</td>\n",
       "    </tr>\n",
       "    <tr>\n",
       "      <th>6</th>\n",
       "      <td>d_uncMagX</td>\n",
       "      <td>0.72</td>\n",
       "    </tr>\n",
       "    <tr>\n",
       "      <th>7</th>\n",
       "      <td>d_uncMagY</td>\n",
       "      <td>0.74</td>\n",
       "    </tr>\n",
       "    <tr>\n",
       "      <th>8</th>\n",
       "      <td>d_uncMagZ</td>\n",
       "      <td>0.59</td>\n",
       "    </tr>\n",
       "    <tr>\n",
       "      <th>9</th>\n",
       "      <td>accZ, d_uncMagZ</td>\n",
       "      <td>0.62</td>\n",
       "    </tr>\n",
       "    <tr>\n",
       "      <th>10</th>\n",
       "      <td>accX, gyroZ</td>\n",
       "      <td>0.96</td>\n",
       "    </tr>\n",
       "  </tbody>\n",
       "</table>\n",
       "</div>"
      ],
      "text/plain": [
       "            sensors  accuracy\n",
       "0              accX      0.73\n",
       "1              accY      0.59\n",
       "2              accZ      0.62\n",
       "3             gyroX      0.73\n",
       "4             gyroY      0.88\n",
       "5             gyroZ      0.92\n",
       "6         d_uncMagX      0.72\n",
       "7         d_uncMagY      0.74\n",
       "8         d_uncMagZ      0.59\n",
       "9   accZ, d_uncMagZ      0.62\n",
       "10      accX, gyroZ      0.96"
      ]
     },
     "execution_count": 47,
     "metadata": {},
     "output_type": "execute_result"
    }
   ],
   "source": [
    "df1b"
   ]
  },
  {
   "cell_type": "code",
   "execution_count": 48,
   "metadata": {},
   "outputs": [
    {
     "data": {
      "text/html": [
       "<div>\n",
       "<style scoped>\n",
       "    .dataframe tbody tr th:only-of-type {\n",
       "        vertical-align: middle;\n",
       "    }\n",
       "\n",
       "    .dataframe tbody tr th {\n",
       "        vertical-align: top;\n",
       "    }\n",
       "\n",
       "    .dataframe thead th {\n",
       "        text-align: right;\n",
       "    }\n",
       "</style>\n",
       "<table border=\"1\" class=\"dataframe\">\n",
       "  <thead>\n",
       "    <tr style=\"text-align: right;\">\n",
       "      <th></th>\n",
       "      <th>sensors</th>\n",
       "      <th>accuracy</th>\n",
       "    </tr>\n",
       "  </thead>\n",
       "  <tbody>\n",
       "    <tr>\n",
       "      <th>0</th>\n",
       "      <td>accX</td>\n",
       "      <td>0.58</td>\n",
       "    </tr>\n",
       "    <tr>\n",
       "      <th>1</th>\n",
       "      <td>accY</td>\n",
       "      <td>0.53</td>\n",
       "    </tr>\n",
       "    <tr>\n",
       "      <th>2</th>\n",
       "      <td>accZ</td>\n",
       "      <td>0.55</td>\n",
       "    </tr>\n",
       "    <tr>\n",
       "      <th>3</th>\n",
       "      <td>gyroX</td>\n",
       "      <td>0.49</td>\n",
       "    </tr>\n",
       "    <tr>\n",
       "      <th>4</th>\n",
       "      <td>gyroY</td>\n",
       "      <td>0.49</td>\n",
       "    </tr>\n",
       "    <tr>\n",
       "      <th>5</th>\n",
       "      <td>gyroZ</td>\n",
       "      <td>0.66</td>\n",
       "    </tr>\n",
       "    <tr>\n",
       "      <th>6</th>\n",
       "      <td>d_uncMagX</td>\n",
       "      <td>0.55</td>\n",
       "    </tr>\n",
       "    <tr>\n",
       "      <th>7</th>\n",
       "      <td>d_uncMagY</td>\n",
       "      <td>0.58</td>\n",
       "    </tr>\n",
       "    <tr>\n",
       "      <th>8</th>\n",
       "      <td>d_uncMagZ</td>\n",
       "      <td>0.64</td>\n",
       "    </tr>\n",
       "    <tr>\n",
       "      <th>9</th>\n",
       "      <td>accZ, d_uncMagZ</td>\n",
       "      <td>0.57</td>\n",
       "    </tr>\n",
       "    <tr>\n",
       "      <th>10</th>\n",
       "      <td>accX, gyroZ</td>\n",
       "      <td>0.70</td>\n",
       "    </tr>\n",
       "  </tbody>\n",
       "</table>\n",
       "</div>"
      ],
      "text/plain": [
       "            sensors  accuracy\n",
       "0              accX      0.58\n",
       "1              accY      0.53\n",
       "2              accZ      0.55\n",
       "3             gyroX      0.49\n",
       "4             gyroY      0.49\n",
       "5             gyroZ      0.66\n",
       "6         d_uncMagX      0.55\n",
       "7         d_uncMagY      0.58\n",
       "8         d_uncMagZ      0.64\n",
       "9   accZ, d_uncMagZ      0.57\n",
       "10      accX, gyroZ      0.70"
      ]
     },
     "execution_count": 48,
     "metadata": {},
     "output_type": "execute_result"
    }
   ],
   "source": [
    "df2"
   ]
  },
  {
   "cell_type": "code",
   "execution_count": 49,
   "metadata": {},
   "outputs": [],
   "source": [
    "best2 = r2[(\"accX\", \"gyroZ\",)][\"cm\"]"
   ]
  },
  {
   "cell_type": "code",
   "execution_count": 51,
   "metadata": {},
   "outputs": [
    {
     "data": {
      "image/png": "[encoded data removed]",
      "text/plain": [
       "<Figure size 432x288 with 1 Axes>"
      ]
     },
     "metadata": {
      "needs_background": "light"
     },
     "output_type": "display_data"
    }
   ],
   "source": [
    "draw_matrix(best2, [1, 2])"
   ]
  },
  {
   "cell_type": "code",
   "execution_count": 52,
   "metadata": {},
   "outputs": [],
   "source": [
    "df1b.to_excel(\"sensors_accuracy1b.xlsx\")\n",
    "df2.to_excel(\"sensors_accuracy2.xlsx\")"
   ]
  },
  {
   "cell_type": "code",
   "execution_count": null,
   "metadata": {},
   "outputs": [],
   "source": []
  }
 ],
 "metadata": {
  "kernelspec": {
   "display_name": "Python 3",
   "language": "python",
   "name": "python3"
  },
  "language_info": {
   "codemirror_mode": {
    "name": "ipython",
    "version": 3
   },
   "file_extension": ".py",
   "mimetype": "text/x-python",
   "name": "python",
   "nbconvert_exporter": "python",
   "pygments_lexer": "ipython3",
   "version": "3.8.3"
  }
 },
 "nbformat": 4,
 "nbformat_minor": 4
}
